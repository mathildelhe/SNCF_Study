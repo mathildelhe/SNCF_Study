{
 "cells": [
  {
   "cell_type": "markdown",
   "id": "d59bc6ee",
   "metadata": {},
   "source": [
    "# Supervised machine learning - Content list\n",
    "\n",
    "1. Import libraries and data\n",
    "2. Visualizations\n",
    "3. Data prep for regession analysis\n",
    "4. Regresion analysis"
   ]
  },
  {
   "cell_type": "markdown",
   "id": "7c867b45",
   "metadata": {},
   "source": [
    "# 1. Import libraries and data"
   ]
  },
  {
   "cell_type": "code",
   "execution_count": 4,
   "id": "de19c4de",
   "metadata": {},
   "outputs": [],
   "source": [
    "# Import libraries\n",
    "import pandas as pd\n",
    "import numpy as np\n",
    "import seaborn as sns\n",
    "import matplotlib\n",
    "import matplotlib.pyplot as plt\n",
    "import os\n",
    "import sklearn\n",
    "from sklearn.model_selection import train_test_split \n",
    "from sklearn.linear_model import LinearRegression\n",
    "from sklearn.metrics import mean_squared_error, r2_score"
   ]
  },
  {
   "cell_type": "code",
   "execution_count": 5,
   "id": "36660d6b",
   "metadata": {},
   "outputs": [],
   "source": [
    "# This option ensures that the graphs displayed within the notebook without the need to \"call\" them specifically\n",
    "%matplotlib inline"
   ]
  },
  {
   "cell_type": "code",
   "execution_count": 6,
   "id": "c99f9875",
   "metadata": {},
   "outputs": [],
   "source": [
    "# Import Data\n",
    "# Create path\n",
    "path = r'C:\\Users\\Mathilde\\Documents\\DATA ANALYSIS CAREERFOUNDRY\\Aug 2024 - SNCF project'\n",
    "# Import the merged data set\n",
    "df = pd.read_csv(os.path.join(path, '02 Data', 'Prepared data', 'dataset_formatted.csv'), index_col = False)"
   ]
  },
  {
   "cell_type": "markdown",
   "id": "c99ee49f",
   "metadata": {},
   "source": [
    "# 2. Visualizations"
   ]
  },
  {
   "cell_type": "code",
   "execution_count": 7,
   "id": "1febd615",
   "metadata": {
    "scrolled": true
   },
   "outputs": [
    {
     "data": {
      "text/html": [
       "<div>\n",
       "<style scoped>\n",
       "    .dataframe tbody tr th:only-of-type {\n",
       "        vertical-align: middle;\n",
       "    }\n",
       "\n",
       "    .dataframe tbody tr th {\n",
       "        vertical-align: top;\n",
       "    }\n",
       "\n",
       "    .dataframe thead th {\n",
       "        text-align: right;\n",
       "    }\n",
       "</style>\n",
       "<table border=\"1\" class=\"dataframe\">\n",
       "  <thead>\n",
       "    <tr style=\"text-align: right;\">\n",
       "      <th></th>\n",
       "      <th>Unnamed: 0.1</th>\n",
       "      <th>Unnamed: 0</th>\n",
       "      <th>Date</th>\n",
       "      <th>Service</th>\n",
       "      <th>Departure station</th>\n",
       "      <th>Arrival station</th>\n",
       "      <th>Avg trip length</th>\n",
       "      <th>Number of trips scheduled</th>\n",
       "      <th>Number of trains cancelled</th>\n",
       "      <th>Number of trains delayed on departure</th>\n",
       "      <th>Avg delay of trains delayed on departure</th>\n",
       "      <th>Avg delay of all trains on departure</th>\n",
       "      <th>Number of trains delayed on arrival</th>\n",
       "      <th>Avg delay of trains delayed on arrival</th>\n",
       "      <th>Avg delay of all trains on arrival</th>\n",
       "      <th>Comments delay on arrival</th>\n",
       "      <th>Number of trains &gt;15 min delay</th>\n",
       "      <th>Number of trains &gt;30 min delay</th>\n",
       "      <th>Number of trains &gt;60 min delay</th>\n",
       "      <th>% delay from external causes</th>\n",
       "      <th>% delay infrastructure cause</th>\n",
       "      <th>% delay traffic management cause</th>\n",
       "      <th>% delay rolling stock cause</th>\n",
       "      <th>% delay station management and reutilization of stock</th>\n",
       "      <th>% delay because of accommodation of passengers (crowd, disability, connections)</th>\n",
       "      <th>Departure region</th>\n",
       "      <th>Arrival region</th>\n",
       "      <th>Departure station: Total travelers 2023</th>\n",
       "      <th>Departure station: Total travelers 2022</th>\n",
       "      <th>Departure station: Total travelers 2021</th>\n",
       "      <th>Departure station: Total travelers 2020</th>\n",
       "      <th>Departure station: Total travelers 2019</th>\n",
       "      <th>Departure station: Total travelers 2018</th>\n",
       "      <th>Arrival station: Total travelers 2023</th>\n",
       "      <th>Arrival station: Total travelers 2022</th>\n",
       "      <th>Arrival station: Total travelers 2021</th>\n",
       "      <th>Arrival station: Total travelers 2020</th>\n",
       "      <th>Arrival station: Total travelers 2019</th>\n",
       "      <th>Arrival station: Total travelers 2018</th>\n",
       "    </tr>\n",
       "  </thead>\n",
       "  <tbody>\n",
       "    <tr>\n",
       "      <th>0</th>\n",
       "      <td>0</td>\n",
       "      <td>0</td>\n",
       "      <td>2018-01</td>\n",
       "      <td>National</td>\n",
       "      <td>Bordeaux Saint-Jean</td>\n",
       "      <td>Paris Montparnasse</td>\n",
       "      <td>141</td>\n",
       "      <td>870</td>\n",
       "      <td>5</td>\n",
       "      <td>289</td>\n",
       "      <td>11.247809</td>\n",
       "      <td>3.693179</td>\n",
       "      <td>147</td>\n",
       "      <td>28.436735</td>\n",
       "      <td>6.511118</td>\n",
       "      <td>NaN</td>\n",
       "      <td>110</td>\n",
       "      <td>44</td>\n",
       "      <td>8</td>\n",
       "      <td>36.134454</td>\n",
       "      <td>31.092437</td>\n",
       "      <td>10.92437</td>\n",
       "      <td>15.966387</td>\n",
       "      <td>5.042017</td>\n",
       "      <td>0.840336</td>\n",
       "      <td>Nouvelle-Aquitaine</td>\n",
       "      <td>Ile-de-France</td>\n",
       "      <td>22612374.0</td>\n",
       "      <td>21353889.0</td>\n",
       "      <td>16454662.0</td>\n",
       "      <td>11184093.0</td>\n",
       "      <td>17675655.0</td>\n",
       "      <td>16080989.0</td>\n",
       "      <td>64471254.0</td>\n",
       "      <td>56862435.0</td>\n",
       "      <td>41039816.0</td>\n",
       "      <td>32447396.0</td>\n",
       "      <td>61374056.0</td>\n",
       "      <td>59174533.0</td>\n",
       "    </tr>\n",
       "  </tbody>\n",
       "</table>\n",
       "</div>"
      ],
      "text/plain": [
       "   Unnamed: 0.1  Unnamed: 0     Date   Service    Departure station  \\\n",
       "0             0           0  2018-01  National  Bordeaux Saint-Jean   \n",
       "\n",
       "      Arrival station  Avg trip length  Number of trips scheduled  \\\n",
       "0  Paris Montparnasse              141                        870   \n",
       "\n",
       "   Number of trains cancelled  Number of trains delayed on departure  \\\n",
       "0                           5                                    289   \n",
       "\n",
       "   Avg delay of trains delayed on departure  \\\n",
       "0                                 11.247809   \n",
       "\n",
       "   Avg delay of all trains on departure  Number of trains delayed on arrival  \\\n",
       "0                              3.693179                                  147   \n",
       "\n",
       "   Avg delay of trains delayed on arrival  Avg delay of all trains on arrival  \\\n",
       "0                               28.436735                            6.511118   \n",
       "\n",
       "  Comments delay on arrival  Number of trains >15 min delay  \\\n",
       "0                       NaN                             110   \n",
       "\n",
       "   Number of trains >30 min delay  Number of trains >60 min delay  \\\n",
       "0                              44                               8   \n",
       "\n",
       "   % delay from external causes  % delay infrastructure cause  \\\n",
       "0                     36.134454                     31.092437   \n",
       "\n",
       "   % delay traffic management cause  % delay rolling stock cause  \\\n",
       "0                          10.92437                    15.966387   \n",
       "\n",
       "   % delay station management and reutilization of stock  \\\n",
       "0                                           5.042017       \n",
       "\n",
       "   % delay because of accommodation of passengers (crowd, disability, connections)  \\\n",
       "0                                           0.840336                                 \n",
       "\n",
       "     Departure region Arrival region  Departure station: Total travelers 2023  \\\n",
       "0  Nouvelle-Aquitaine  Ile-de-France                               22612374.0   \n",
       "\n",
       "   Departure station: Total travelers 2022  \\\n",
       "0                               21353889.0   \n",
       "\n",
       "   Departure station: Total travelers 2021  \\\n",
       "0                               16454662.0   \n",
       "\n",
       "   Departure station: Total travelers 2020  \\\n",
       "0                               11184093.0   \n",
       "\n",
       "   Departure station: Total travelers 2019  \\\n",
       "0                               17675655.0   \n",
       "\n",
       "   Departure station: Total travelers 2018  \\\n",
       "0                               16080989.0   \n",
       "\n",
       "   Arrival station: Total travelers 2023  \\\n",
       "0                             64471254.0   \n",
       "\n",
       "   Arrival station: Total travelers 2022  \\\n",
       "0                             56862435.0   \n",
       "\n",
       "   Arrival station: Total travelers 2021  \\\n",
       "0                             41039816.0   \n",
       "\n",
       "   Arrival station: Total travelers 2020  \\\n",
       "0                             32447396.0   \n",
       "\n",
       "   Arrival station: Total travelers 2019  \\\n",
       "0                             61374056.0   \n",
       "\n",
       "   Arrival station: Total travelers 2018  \n",
       "0                             59174533.0  "
      ]
     },
     "execution_count": 7,
     "metadata": {},
     "output_type": "execute_result"
    }
   ],
   "source": [
    "pd.set_option('display.max_columns', None)\n",
    "df.head(1)"
   ]
  },
  {
   "cell_type": "code",
   "execution_count": 9,
   "id": "90242be4",
   "metadata": {},
   "outputs": [],
   "source": [
    "df = df.drop(columns = ['Unnamed: 0.1', 'Unnamed: 0'])"
   ]
  },
  {
   "cell_type": "code",
   "execution_count": 10,
   "id": "c59a6b01",
   "metadata": {
    "scrolled": true
   },
   "outputs": [
    {
     "data": {
      "text/html": [
       "<div>\n",
       "<style scoped>\n",
       "    .dataframe tbody tr th:only-of-type {\n",
       "        vertical-align: middle;\n",
       "    }\n",
       "\n",
       "    .dataframe tbody tr th {\n",
       "        vertical-align: top;\n",
       "    }\n",
       "\n",
       "    .dataframe thead th {\n",
       "        text-align: right;\n",
       "    }\n",
       "</style>\n",
       "<table border=\"1\" class=\"dataframe\">\n",
       "  <thead>\n",
       "    <tr style=\"text-align: right;\">\n",
       "      <th></th>\n",
       "      <th>Date</th>\n",
       "      <th>Service</th>\n",
       "      <th>Departure station</th>\n",
       "      <th>Arrival station</th>\n",
       "      <th>Avg trip length</th>\n",
       "      <th>Number of trips scheduled</th>\n",
       "      <th>Number of trains cancelled</th>\n",
       "      <th>Number of trains delayed on departure</th>\n",
       "      <th>Avg delay of trains delayed on departure</th>\n",
       "      <th>Avg delay of all trains on departure</th>\n",
       "      <th>Number of trains delayed on arrival</th>\n",
       "      <th>Avg delay of trains delayed on arrival</th>\n",
       "      <th>Avg delay of all trains on arrival</th>\n",
       "      <th>Comments delay on arrival</th>\n",
       "      <th>Number of trains &gt;15 min delay</th>\n",
       "      <th>Number of trains &gt;30 min delay</th>\n",
       "      <th>Number of trains &gt;60 min delay</th>\n",
       "      <th>% delay from external causes</th>\n",
       "      <th>% delay infrastructure cause</th>\n",
       "      <th>% delay traffic management cause</th>\n",
       "      <th>% delay rolling stock cause</th>\n",
       "      <th>% delay station management and reutilization of stock</th>\n",
       "      <th>% delay because of accommodation of passengers (crowd, disability, connections)</th>\n",
       "      <th>Departure region</th>\n",
       "      <th>Arrival region</th>\n",
       "      <th>Departure station: Total travelers 2023</th>\n",
       "      <th>Departure station: Total travelers 2022</th>\n",
       "      <th>Departure station: Total travelers 2021</th>\n",
       "      <th>Departure station: Total travelers 2020</th>\n",
       "      <th>Departure station: Total travelers 2019</th>\n",
       "      <th>Departure station: Total travelers 2018</th>\n",
       "      <th>Arrival station: Total travelers 2023</th>\n",
       "      <th>Arrival station: Total travelers 2022</th>\n",
       "      <th>Arrival station: Total travelers 2021</th>\n",
       "      <th>Arrival station: Total travelers 2020</th>\n",
       "      <th>Arrival station: Total travelers 2019</th>\n",
       "      <th>Arrival station: Total travelers 2018</th>\n",
       "    </tr>\n",
       "  </thead>\n",
       "  <tbody>\n",
       "    <tr>\n",
       "      <th>0</th>\n",
       "      <td>2018-01</td>\n",
       "      <td>National</td>\n",
       "      <td>Bordeaux Saint-Jean</td>\n",
       "      <td>Paris Montparnasse</td>\n",
       "      <td>141</td>\n",
       "      <td>870</td>\n",
       "      <td>5</td>\n",
       "      <td>289</td>\n",
       "      <td>11.247809</td>\n",
       "      <td>3.693179</td>\n",
       "      <td>147</td>\n",
       "      <td>28.436735</td>\n",
       "      <td>6.511118</td>\n",
       "      <td>NaN</td>\n",
       "      <td>110</td>\n",
       "      <td>44</td>\n",
       "      <td>8</td>\n",
       "      <td>36.134454</td>\n",
       "      <td>31.092437</td>\n",
       "      <td>10.92437</td>\n",
       "      <td>15.966387</td>\n",
       "      <td>5.042017</td>\n",
       "      <td>0.840336</td>\n",
       "      <td>Nouvelle-Aquitaine</td>\n",
       "      <td>Ile-de-France</td>\n",
       "      <td>22612374.0</td>\n",
       "      <td>21353889.0</td>\n",
       "      <td>16454662.0</td>\n",
       "      <td>11184093.0</td>\n",
       "      <td>17675655.0</td>\n",
       "      <td>16080989.0</td>\n",
       "      <td>64471254.0</td>\n",
       "      <td>56862435.0</td>\n",
       "      <td>41039816.0</td>\n",
       "      <td>32447396.0</td>\n",
       "      <td>61374056.0</td>\n",
       "      <td>59174533.0</td>\n",
       "    </tr>\n",
       "  </tbody>\n",
       "</table>\n",
       "</div>"
      ],
      "text/plain": [
       "      Date   Service    Departure station     Arrival station  \\\n",
       "0  2018-01  National  Bordeaux Saint-Jean  Paris Montparnasse   \n",
       "\n",
       "   Avg trip length  Number of trips scheduled  Number of trains cancelled  \\\n",
       "0              141                        870                           5   \n",
       "\n",
       "   Number of trains delayed on departure  \\\n",
       "0                                    289   \n",
       "\n",
       "   Avg delay of trains delayed on departure  \\\n",
       "0                                 11.247809   \n",
       "\n",
       "   Avg delay of all trains on departure  Number of trains delayed on arrival  \\\n",
       "0                              3.693179                                  147   \n",
       "\n",
       "   Avg delay of trains delayed on arrival  Avg delay of all trains on arrival  \\\n",
       "0                               28.436735                            6.511118   \n",
       "\n",
       "  Comments delay on arrival  Number of trains >15 min delay  \\\n",
       "0                       NaN                             110   \n",
       "\n",
       "   Number of trains >30 min delay  Number of trains >60 min delay  \\\n",
       "0                              44                               8   \n",
       "\n",
       "   % delay from external causes  % delay infrastructure cause  \\\n",
       "0                     36.134454                     31.092437   \n",
       "\n",
       "   % delay traffic management cause  % delay rolling stock cause  \\\n",
       "0                          10.92437                    15.966387   \n",
       "\n",
       "   % delay station management and reutilization of stock  \\\n",
       "0                                           5.042017       \n",
       "\n",
       "   % delay because of accommodation of passengers (crowd, disability, connections)  \\\n",
       "0                                           0.840336                                 \n",
       "\n",
       "     Departure region Arrival region  Departure station: Total travelers 2023  \\\n",
       "0  Nouvelle-Aquitaine  Ile-de-France                               22612374.0   \n",
       "\n",
       "   Departure station: Total travelers 2022  \\\n",
       "0                               21353889.0   \n",
       "\n",
       "   Departure station: Total travelers 2021  \\\n",
       "0                               16454662.0   \n",
       "\n",
       "   Departure station: Total travelers 2020  \\\n",
       "0                               11184093.0   \n",
       "\n",
       "   Departure station: Total travelers 2019  \\\n",
       "0                               17675655.0   \n",
       "\n",
       "   Departure station: Total travelers 2018  \\\n",
       "0                               16080989.0   \n",
       "\n",
       "   Arrival station: Total travelers 2023  \\\n",
       "0                             64471254.0   \n",
       "\n",
       "   Arrival station: Total travelers 2022  \\\n",
       "0                             56862435.0   \n",
       "\n",
       "   Arrival station: Total travelers 2021  \\\n",
       "0                             41039816.0   \n",
       "\n",
       "   Arrival station: Total travelers 2020  \\\n",
       "0                             32447396.0   \n",
       "\n",
       "   Arrival station: Total travelers 2019  \\\n",
       "0                             61374056.0   \n",
       "\n",
       "   Arrival station: Total travelers 2018  \n",
       "0                             59174533.0  "
      ]
     },
     "execution_count": 10,
     "metadata": {},
     "output_type": "execute_result"
    }
   ],
   "source": [
    "df.head(1)"
   ]
  },
  {
   "cell_type": "markdown",
   "id": "1f230891",
   "metadata": {},
   "source": [
    "When exploring relationships between variables in a previous Notebook, I found the relationship between Nb of trains cancelled and Avg delay of trains delayed on arrival interesting, and I wanted to explore it later on. Let's do it now."
   ]
  },
  {
   "cell_type": "code",
   "execution_count": 11,
   "id": "27b1fd91",
   "metadata": {
    "scrolled": true
   },
   "outputs": [
    {
     "data": {
      "image/png": "[encoded data removed]",
      "text/plain": [
       "<Figure size 640x480 with 1 Axes>"
      ]
     },
     "metadata": {},
     "output_type": "display_data"
    }
   ],
   "source": [
    "# Create a scatterplot using matplotlib for another look at how the chosen variables plot against each other\n",
    "df.plot(x = 'Number of trains cancelled', y = 'Avg delay of trains delayed on arrival',style='o')\n",
    "plt.title('Number of trains cancelled vs Avg delay of trains delayed on arrival')\n",
    "plt.xlabel('Number of trains cancelled')\n",
    "plt.ylabel('Avg delay of trains delayed on arrival')\n",
    "plt.show()"
   ]
  },
  {
   "cell_type": "markdown",
   "id": "e547527c",
   "metadata": {},
   "source": [
    "I also want to see the Avg delay on arrival vs number of travelers/year, as it seemed that the busiest stations had a better management, but I'd like to verify this."
   ]
  },
  {
   "cell_type": "code",
   "execution_count": 12,
   "id": "78bb456a",
   "metadata": {},
   "outputs": [
    {
     "data": {
      "image/png": "[encoded data removed]",
      "text/plain": [
       "<Figure size 640x480 with 1 Axes>"
      ]
     },
     "metadata": {},
     "output_type": "display_data"
    }
   ],
   "source": [
    "df.plot(x = 'Arrival station: Total travelers 2023', y = 'Avg delay of all trains on arrival',style='o')\n",
    "plt.title('Total travelers 2023 in arrival station vs Avg delay on arrival')\n",
    "plt.xlabel('Arrival station: Total travelers 2023')\n",
    "plt.ylabel('Avg delay of trains on arrival')\n",
    "plt.show()"
   ]
  },
  {
   "cell_type": "markdown",
   "id": "30507443",
   "metadata": {},
   "source": [
    "### Note:\n",
    "The \"Arrival station : Total travelers 2023\" variable takes only a limited number of values, and are sparsely scattered when the number of travelers gets high. It will probably not do for an interesting regression model. I will study the relationship between Nb of trains cancelled and Avg delay of trains delayed on arrival.\n",
    "### Hypothesis:\n",
    "The grater number of trains are cancelled on a given line, the smaller the average delay on the line. This would mean that when many trains are cancelled on a connection, the trains that are not cancelled tend to be more on time."
   ]
  },
  {
   "cell_type": "markdown",
   "id": "133a982f",
   "metadata": {},
   "source": [
    "# 3. Data prep for regession analysis"
   ]
  },
  {
   "cell_type": "code",
   "execution_count": 13,
   "id": "dabbc72e",
   "metadata": {},
   "outputs": [],
   "source": [
    "# Reshape the variables into NumPy arrays and put them into separate objects\n",
    "\n",
    "X = df['Number of trains cancelled'].values.reshape(-1,1)\n",
    "y = df['Avg delay of trains delayed on arrival'].values.reshape(-1,1)"
   ]
  },
  {
   "cell_type": "code",
   "execution_count": 14,
   "id": "70c4ef69",
   "metadata": {},
   "outputs": [
    {
     "data": {
      "text/plain": [
       "array([[5],\n",
       "       [0],\n",
       "       [1],\n",
       "       ...,\n",
       "       [8],\n",
       "       [0],\n",
       "       [0]], dtype=int64)"
      ]
     },
     "execution_count": 14,
     "metadata": {},
     "output_type": "execute_result"
    }
   ],
   "source": [
    "X"
   ]
  },
  {
   "cell_type": "code",
   "execution_count": 15,
   "id": "c93fd755",
   "metadata": {},
   "outputs": [
    {
     "data": {
      "text/plain": [
       "array([[28.43673469],\n",
       "       [21.52401961],\n",
       "       [55.69230769],\n",
       "       ...,\n",
       "       [20.75201258],\n",
       "       [19.41839827],\n",
       "       [35.89726776]])"
      ]
     },
     "execution_count": 15,
     "metadata": {},
     "output_type": "execute_result"
    }
   ],
   "source": [
    "y"
   ]
  },
  {
   "cell_type": "code",
   "execution_count": 16,
   "id": "7b2990ea",
   "metadata": {
    "scrolled": true
   },
   "outputs": [
    {
     "data": {
      "text/plain": [
       "(9598, 1)"
      ]
     },
     "execution_count": 16,
     "metadata": {},
     "output_type": "execute_result"
    }
   ],
   "source": [
    "X.shape"
   ]
  },
  {
   "cell_type": "code",
   "execution_count": 17,
   "id": "571f662d",
   "metadata": {},
   "outputs": [
    {
     "data": {
      "text/plain": [
       "(9598, 1)"
      ]
     },
     "execution_count": 17,
     "metadata": {},
     "output_type": "execute_result"
    }
   ],
   "source": [
    "y.shape"
   ]
  },
  {
   "cell_type": "markdown",
   "id": "84a1e02d",
   "metadata": {},
   "source": [
    "Note: We have 9,598 observations, which is more than the min of 5,000 requiered to proceed to a regression analysis."
   ]
  },
  {
   "cell_type": "code",
   "execution_count": 18,
   "id": "2e99a8e4",
   "metadata": {},
   "outputs": [],
   "source": [
    "# Split data into a training set and a test set\n",
    "X_train, X_test, y_train, y_test = train_test_split(X, y, test_size=0.3, random_state=0)"
   ]
  },
  {
   "cell_type": "markdown",
   "id": "fd477234",
   "metadata": {},
   "source": [
    "# 4. Regression analysis"
   ]
  },
  {
   "cell_type": "code",
   "execution_count": 19,
   "id": "f84005f9",
   "metadata": {},
   "outputs": [],
   "source": [
    "# Create a regression object\n",
    "regression = LinearRegression()"
   ]
  },
  {
   "cell_type": "code",
   "execution_count": 20,
   "id": "1000d2a6",
   "metadata": {},
   "outputs": [
    {
     "data": {
      "text/html": [
       "<style>#sk-container-id-1 {color: black;background-color: white;}#sk-container-id-1 pre{padding: 0;}#sk-container-id-1 div.sk-toggleable {background-color: white;}#sk-container-id-1 label.sk-toggleable__label {cursor: pointer;display: block;width: 100%;margin-bottom: 0;padding: 0.3em;box-sizing: border-box;text-align: center;}#sk-container-id-1 label.sk-toggleable__label-arrow:before {content: \"▸\";float: left;margin-right: 0.25em;color: #696969;}#sk-container-id-1 label.sk-toggleable__label-arrow:hover:before {color: black;}#sk-container-id-1 div.sk-estimator:hover label.sk-toggleable__label-arrow:before {color: black;}#sk-container-id-1 div.sk-toggleable__content {max-height: 0;max-width: 0;overflow: hidden;text-align: left;background-color: #f0f8ff;}#sk-container-id-1 div.sk-toggleable__content pre {margin: 0.2em;color: black;border-radius: 0.25em;background-color: #f0f8ff;}#sk-container-id-1 input.sk-toggleable__control:checked~div.sk-toggleable__content {max-height: 200px;max-width: 100%;overflow: auto;}#sk-container-id-1 input.sk-toggleable__control:checked~label.sk-toggleable__label-arrow:before {content: \"▾\";}#sk-container-id-1 div.sk-estimator input.sk-toggleable__control:checked~label.sk-toggleable__label {background-color: #d4ebff;}#sk-container-id-1 div.sk-label input.sk-toggleable__control:checked~label.sk-toggleable__label {background-color: #d4ebff;}#sk-container-id-1 input.sk-hidden--visually {border: 0;clip: rect(1px 1px 1px 1px);clip: rect(1px, 1px, 1px, 1px);height: 1px;margin: -1px;overflow: hidden;padding: 0;position: absolute;width: 1px;}#sk-container-id-1 div.sk-estimator {font-family: monospace;background-color: #f0f8ff;border: 1px dotted black;border-radius: 0.25em;box-sizing: border-box;margin-bottom: 0.5em;}#sk-container-id-1 div.sk-estimator:hover {background-color: #d4ebff;}#sk-container-id-1 div.sk-parallel-item::after {content: \"\";width: 100%;border-bottom: 1px solid gray;flex-grow: 1;}#sk-container-id-1 div.sk-label:hover label.sk-toggleable__label {background-color: #d4ebff;}#sk-container-id-1 div.sk-serial::before {content: \"\";position: absolute;border-left: 1px solid gray;box-sizing: border-box;top: 0;bottom: 0;left: 50%;z-index: 0;}#sk-container-id-1 div.sk-serial {display: flex;flex-direction: column;align-items: center;background-color: white;padding-right: 0.2em;padding-left: 0.2em;position: relative;}#sk-container-id-1 div.sk-item {position: relative;z-index: 1;}#sk-container-id-1 div.sk-parallel {display: flex;align-items: stretch;justify-content: center;background-color: white;position: relative;}#sk-container-id-1 div.sk-item::before, #sk-container-id-1 div.sk-parallel-item::before {content: \"\";position: absolute;border-left: 1px solid gray;box-sizing: border-box;top: 0;bottom: 0;left: 50%;z-index: -1;}#sk-container-id-1 div.sk-parallel-item {display: flex;flex-direction: column;z-index: 1;position: relative;background-color: white;}#sk-container-id-1 div.sk-parallel-item:first-child::after {align-self: flex-end;width: 50%;}#sk-container-id-1 div.sk-parallel-item:last-child::after {align-self: flex-start;width: 50%;}#sk-container-id-1 div.sk-parallel-item:only-child::after {width: 0;}#sk-container-id-1 div.sk-dashed-wrapped {border: 1px dashed gray;margin: 0 0.4em 0.5em 0.4em;box-sizing: border-box;padding-bottom: 0.4em;background-color: white;}#sk-container-id-1 div.sk-label label {font-family: monospace;font-weight: bold;display: inline-block;line-height: 1.2em;}#sk-container-id-1 div.sk-label-container {text-align: center;}#sk-container-id-1 div.sk-container {/* jupyter's `normalize.less` sets `[hidden] { display: none; }` but bootstrap.min.css set `[hidden] { display: none !important; }` so we also need the `!important` here to be able to override the default hidden behavior on the sphinx rendered scikit-learn.org. See: https://github.com/scikit-learn/scikit-learn/issues/21755 */display: inline-block !important;position: relative;}#sk-container-id-1 div.sk-text-repr-fallback {display: none;}</style><div id=\"sk-container-id-1\" class=\"sk-top-container\"><div class=\"sk-text-repr-fallback\"><pre>LinearRegression()</pre><b>In a Jupyter environment, please rerun this cell to show the HTML representation or trust the notebook. <br />On GitHub, the HTML representation is unable to render, please try loading this page with nbviewer.org.</b></div><div class=\"sk-container\" hidden><div class=\"sk-item\"><div class=\"sk-estimator sk-toggleable\"><input class=\"sk-toggleable__control sk-hidden--visually\" id=\"sk-estimator-id-1\" type=\"checkbox\" checked><label for=\"sk-estimator-id-1\" class=\"sk-toggleable__label sk-toggleable__label-arrow\">LinearRegression</label><div class=\"sk-toggleable__content\"><pre>LinearRegression()</pre></div></div></div></div></div>"
      ],
      "text/plain": [
       "LinearRegression()"
      ]
     },
     "execution_count": 20,
     "metadata": {},
     "output_type": "execute_result"
    }
   ],
   "source": [
    "# Fit the regression object onto the training set\n",
    "regression.fit(X_train, y_train)"
   ]
  },
  {
   "cell_type": "code",
   "execution_count": 21,
   "id": "941973de",
   "metadata": {},
   "outputs": [],
   "source": [
    "# Predict the values of y using X\n",
    "y_predicted = regression.predict(X_test)"
   ]
  },
  {
   "cell_type": "code",
   "execution_count": 22,
   "id": "28881ee1",
   "metadata": {},
   "outputs": [
    {
     "data": {
      "image/png": "[encoded data removed]",
      "text/plain": [
       "<Figure size 640x480 with 1 Axes>"
      ]
     },
     "metadata": {},
     "output_type": "display_data"
    }
   ],
   "source": [
    "# Create a plot that shows the regression line from the model on the test set\n",
    "plot_test = plt\n",
    "plot_test.scatter(X_test, y_test, color='gray', s = 15)\n",
    "plot_test.plot(X_test, y_predicted, color='red', linewidth =3)\n",
    "plot_test.title('Number of trains cancelled vs Avg delay of trains delayed on arrival (test set)')\n",
    "plot_test.xlabel('Number of trains cancelled')\n",
    "plot_test.ylabel('Avg delay of trains delayed on arrival')\n",
    "plot_test.show()"
   ]
  },
  {
   "cell_type": "markdown",
   "id": "d2b9d42b",
   "metadata": {},
   "source": [
    "### Interpretation:\n",
    "The slope of the regression line is almost 0, the line is almost flat. There is pretty much no linear relationship between those two variables."
   ]
  },
  {
   "cell_type": "code",
   "execution_count": 23,
   "id": "68e0985b",
   "metadata": {},
   "outputs": [],
   "source": [
    "# Create objects that contain the model summary statistics\n",
    "\n",
    "rmse = mean_squared_error(y_test, y_predicted) # This is the mean squared error\n",
    "r2 = r2_score(y_test, y_predicted) # This is the R2 score. "
   ]
  },
  {
   "cell_type": "code",
   "execution_count": 24,
   "id": "abf84a49",
   "metadata": {},
   "outputs": [
    {
     "name": "stdout",
     "output_type": "stream",
     "text": [
      "Slope: [[-0.029913]]\n",
      "Mean squared error:  258.35111743939416\n",
      "R2 score:  0.00292983624231824\n"
     ]
    }
   ],
   "source": [
    "# Print the model summary statistics to evaluate the performance of the model\n",
    "print('Slope:' ,regression.coef_)\n",
    "print('Mean squared error: ', rmse)\n",
    "print('R2 score: ', r2)"
   ]
  },
  {
   "cell_type": "markdown",
   "id": "cba8d3b4",
   "metadata": {},
   "source": [
    "### Interpretation:\n",
    "The slope is indeed close to 0. The MSE is huge. R2 score is very small. The model created does not fit well."
   ]
  },
  {
   "cell_type": "code",
   "execution_count": 25,
   "id": "fe577e36",
   "metadata": {},
   "outputs": [
    {
     "data": {
      "text/html": [
       "<div>\n",
       "<style scoped>\n",
       "    .dataframe tbody tr th:only-of-type {\n",
       "        vertical-align: middle;\n",
       "    }\n",
       "\n",
       "    .dataframe tbody tr th {\n",
       "        vertical-align: top;\n",
       "    }\n",
       "\n",
       "    .dataframe thead th {\n",
       "        text-align: right;\n",
       "    }\n",
       "</style>\n",
       "<table border=\"1\" class=\"dataframe\">\n",
       "  <thead>\n",
       "    <tr style=\"text-align: right;\">\n",
       "      <th></th>\n",
       "      <th>Actual</th>\n",
       "      <th>Predicted</th>\n",
       "    </tr>\n",
       "  </thead>\n",
       "  <tbody>\n",
       "    <tr>\n",
       "      <th>0</th>\n",
       "      <td>23.272222</td>\n",
       "      <td>34.494651</td>\n",
       "    </tr>\n",
       "    <tr>\n",
       "      <th>1</th>\n",
       "      <td>0.000000</td>\n",
       "      <td>33.896390</td>\n",
       "    </tr>\n",
       "    <tr>\n",
       "      <th>2</th>\n",
       "      <td>36.005556</td>\n",
       "      <td>34.464738</td>\n",
       "    </tr>\n",
       "    <tr>\n",
       "      <th>3</th>\n",
       "      <td>30.963964</td>\n",
       "      <td>33.417782</td>\n",
       "    </tr>\n",
       "    <tr>\n",
       "      <th>4</th>\n",
       "      <td>53.919792</td>\n",
       "      <td>34.464738</td>\n",
       "    </tr>\n",
       "    <tr>\n",
       "      <th>5</th>\n",
       "      <td>19.221345</td>\n",
       "      <td>34.374999</td>\n",
       "    </tr>\n",
       "    <tr>\n",
       "      <th>6</th>\n",
       "      <td>52.159091</td>\n",
       "      <td>34.494651</td>\n",
       "    </tr>\n",
       "    <tr>\n",
       "      <th>7</th>\n",
       "      <td>15.350000</td>\n",
       "      <td>34.434825</td>\n",
       "    </tr>\n",
       "    <tr>\n",
       "      <th>8</th>\n",
       "      <td>31.969231</td>\n",
       "      <td>34.434825</td>\n",
       "    </tr>\n",
       "    <tr>\n",
       "      <th>9</th>\n",
       "      <td>48.981159</td>\n",
       "      <td>34.165607</td>\n",
       "    </tr>\n",
       "    <tr>\n",
       "      <th>10</th>\n",
       "      <td>24.713793</td>\n",
       "      <td>34.374999</td>\n",
       "    </tr>\n",
       "    <tr>\n",
       "      <th>11</th>\n",
       "      <td>24.026667</td>\n",
       "      <td>34.345086</td>\n",
       "    </tr>\n",
       "    <tr>\n",
       "      <th>12</th>\n",
       "      <td>40.819426</td>\n",
       "      <td>34.494651</td>\n",
       "    </tr>\n",
       "    <tr>\n",
       "      <th>13</th>\n",
       "      <td>40.648810</td>\n",
       "      <td>34.494651</td>\n",
       "    </tr>\n",
       "    <tr>\n",
       "      <th>14</th>\n",
       "      <td>47.177397</td>\n",
       "      <td>34.404912</td>\n",
       "    </tr>\n",
       "    <tr>\n",
       "      <th>15</th>\n",
       "      <td>51.238384</td>\n",
       "      <td>34.494651</td>\n",
       "    </tr>\n",
       "    <tr>\n",
       "      <th>16</th>\n",
       "      <td>28.791667</td>\n",
       "      <td>34.494651</td>\n",
       "    </tr>\n",
       "    <tr>\n",
       "      <th>17</th>\n",
       "      <td>50.420455</td>\n",
       "      <td>34.494651</td>\n",
       "    </tr>\n",
       "    <tr>\n",
       "      <th>18</th>\n",
       "      <td>24.250000</td>\n",
       "      <td>34.494651</td>\n",
       "    </tr>\n",
       "    <tr>\n",
       "      <th>19</th>\n",
       "      <td>16.907143</td>\n",
       "      <td>33.686999</td>\n",
       "    </tr>\n",
       "    <tr>\n",
       "      <th>20</th>\n",
       "      <td>47.735659</td>\n",
       "      <td>34.404912</td>\n",
       "    </tr>\n",
       "    <tr>\n",
       "      <th>21</th>\n",
       "      <td>48.207631</td>\n",
       "      <td>34.494651</td>\n",
       "    </tr>\n",
       "    <tr>\n",
       "      <th>22</th>\n",
       "      <td>32.530612</td>\n",
       "      <td>34.404912</td>\n",
       "    </tr>\n",
       "    <tr>\n",
       "      <th>23</th>\n",
       "      <td>51.574194</td>\n",
       "      <td>34.464738</td>\n",
       "    </tr>\n",
       "    <tr>\n",
       "      <th>24</th>\n",
       "      <td>35.028495</td>\n",
       "      <td>34.225433</td>\n",
       "    </tr>\n",
       "    <tr>\n",
       "      <th>25</th>\n",
       "      <td>48.468750</td>\n",
       "      <td>34.494651</td>\n",
       "    </tr>\n",
       "    <tr>\n",
       "      <th>26</th>\n",
       "      <td>29.946023</td>\n",
       "      <td>33.148565</td>\n",
       "    </tr>\n",
       "    <tr>\n",
       "      <th>27</th>\n",
       "      <td>32.434259</td>\n",
       "      <td>34.045955</td>\n",
       "    </tr>\n",
       "    <tr>\n",
       "      <th>28</th>\n",
       "      <td>27.619298</td>\n",
       "      <td>34.464738</td>\n",
       "    </tr>\n",
       "    <tr>\n",
       "      <th>29</th>\n",
       "      <td>11.105093</td>\n",
       "      <td>33.836564</td>\n",
       "    </tr>\n",
       "  </tbody>\n",
       "</table>\n",
       "</div>"
      ],
      "text/plain": [
       "       Actual  Predicted\n",
       "0   23.272222  34.494651\n",
       "1    0.000000  33.896390\n",
       "2   36.005556  34.464738\n",
       "3   30.963964  33.417782\n",
       "4   53.919792  34.464738\n",
       "5   19.221345  34.374999\n",
       "6   52.159091  34.494651\n",
       "7   15.350000  34.434825\n",
       "8   31.969231  34.434825\n",
       "9   48.981159  34.165607\n",
       "10  24.713793  34.374999\n",
       "11  24.026667  34.345086\n",
       "12  40.819426  34.494651\n",
       "13  40.648810  34.494651\n",
       "14  47.177397  34.404912\n",
       "15  51.238384  34.494651\n",
       "16  28.791667  34.494651\n",
       "17  50.420455  34.494651\n",
       "18  24.250000  34.494651\n",
       "19  16.907143  33.686999\n",
       "20  47.735659  34.404912\n",
       "21  48.207631  34.494651\n",
       "22  32.530612  34.404912\n",
       "23  51.574194  34.464738\n",
       "24  35.028495  34.225433\n",
       "25  48.468750  34.494651\n",
       "26  29.946023  33.148565\n",
       "27  32.434259  34.045955\n",
       "28  27.619298  34.464738\n",
       "29  11.105093  33.836564"
      ]
     },
     "execution_count": 25,
     "metadata": {},
     "output_type": "execute_result"
    }
   ],
   "source": [
    "# Create a dataframe comparing the actual and predicted values of y.\n",
    "\n",
    "data = pd.DataFrame({'Actual': y_test.flatten(), 'Predicted': y_predicted.flatten()})\n",
    "data.head(30)"
   ]
  },
  {
   "cell_type": "markdown",
   "id": "2b056c6b",
   "metadata": {},
   "source": [
    "### Interpretation:\n",
    "The predictions are very far away from the actual test values. The model is definitely not a good fit.\n",
    "\n",
    "From the other scatter plots created in previous notebook, there doesn't seem to be any relationship between numerical variables that would be worth being explored. All the numerical variables seem to be independant from eachother - except, maybe, the time variable which hasn't been explored yet."
   ]
  }
 ],
 "metadata": {
  "kernelspec": {
   "display_name": "Python 3 (ipykernel)",
   "language": "python",
   "name": "python3"
  },
  "language_info": {
   "codemirror_mode": {
    "name": "ipython",
    "version": 3
   },
   "file_extension": ".py",
   "mimetype": "text/x-python",
   "name": "python",
   "nbconvert_exporter": "python",
   "pygments_lexer": "ipython3",
   "version": "3.11.7"
  }
 },
 "nbformat": 4,
 "nbformat_minor": 5
}
